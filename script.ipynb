{
 "cells": [
  {
   "cell_type": "code",
   "execution_count": null,
   "metadata": {
    "colab": {
     "base_uri": "https://localhost:8080/"
    },
    "id": "9WdNtbxe-YXo",
    "outputId": "fe136475-7f63-47dd-aba0-5b79805feed9"
   },
   "outputs": [
    {
     "name": "stdout",
     "output_type": "stream",
     "text": [
      "Mounted at /content/drive/\n"
     ]
    }
   ],
   "source": [
    "from google.colab import drive\n",
    "drive.mount('/content/drive/')"
   ]
  },
  {
   "cell_type": "code",
   "execution_count": null,
   "metadata": {
    "id": "zXy7BWAR-YS8"
   },
   "outputs": [],
   "source": [
    "import os\n",
    "os.chdir('/content/drive/MyDrive/AI_OpenClassroom/Projet1_MicrosoftAzure/')"
   ]
  },
  {
   "cell_type": "code",
   "execution_count": null,
   "metadata": {
    "id": "tYBblL0yv7Dm"
   },
   "outputs": [],
   "source": [
    "import requests, uuid, json\n",
    "\n",
    "# subscriptin_key and endpoint\n",
    "subscription_key = \"<your_key>\"\n",
    "endpoint = \"<your_endpoint>\"\n",
    "\n",
    "# location \n",
    "location = \"francecentral\"\n",
    "\n",
    "headers = {\n",
    "    'Ocp-Apim-Subscription-Key': subscription_key,\n",
    "    'Ocp-Apim-Subscription-Region': location,\n",
    "    'Content-type': 'application/json',\n",
    "    'X-ClientTraceId': str(uuid.uuid4())\n",
    "}\n",
    "\n",
    "documents = [\n",
    "    {\n",
    "        'id': 1,\n",
    "        'text': 'Plantilla:See also KTLA began carrying Los Angeles Dodgers games beginning with the team\\'s 1993 season, obtaining the television rights from KTTV'\n",
    "    },\n",
    "    {\n",
    "        'id': 2,\n",
    "        'text': 'Chẳng hạn, nếu lấy d là số thập phân cần phải được đổi, thì dãy số hihi-1...h2h1 là những con số để biểu diễn số ở hệ thập lục phân tương ứng. Với cách tính dãy h như sau.'\n",
    "    },\n",
    "    {\n",
    "        'id': 3,\n",
    "        'text': 'ГIурусаз батальонал, гьоркьор гIарадабиги лъун, ункъбокIон (каре) гьабун чIезарун руго. ТIаде гIарададул сачмаги гуллаги байдал, АхIмадханил бо тIурун буго. ГIумаханас цойгидал боязе тIаде кIанцIизе буюрухъ кьун буго.'\n",
    "    },\n",
    "    {\n",
    "        'id': 4,\n",
    "        'text': 'बांग्लादेश के मुख्य न्यायाधीश का पद, बांग्लादेश सर्वोच्च न्यायिक पद है। इस पद पर विराजमान होने वाले पहले पदाधिकारी न्यायमूर्ति अब सादात मोहम्मह खान सयम थे, जोकि १६ दिसंबर १९७२ से नवंबर १९७५ तक इस पद पर रहे थे। तत्पश्चात.'\n",
    "    },    \n",
    "    {\n",
    "        'id': 5,\n",
    "        'text': '1988년 8월 어머니는 보호책임자 유기치사 혐의로 체포 및 기소되었고, 징역 3년에 집행유예 4년의 판결을 받았다. 장남 역시 삼녀의 사망에 관여하였다고 보고 상해치사 및 시신유기죄로 도쿄 가정법원에 송치되지만 상황을 고려해 고아원에 보내졌다. '\n",
    "    }\n",
    "]"
   ]
  },
  {
   "cell_type": "markdown",
   "metadata": {
    "id": "gN1s3XYEezJu"
   },
   "source": [
    "## 1. Detection (without translation)"
   ]
  },
  {
   "cell_type": "code",
   "execution_count": null,
   "metadata": {
    "colab": {
     "base_uri": "https://localhost:8080/"
    },
    "id": "CI-zTUQfezJv",
    "outputId": "95fdfa56-276a-4acd-9956-5ad417cc5b95"
   },
   "outputs": [
    {
     "name": "stdout",
     "output_type": "stream",
     "text": [
      "[\n",
      "    {\n",
      "        \"isTranslationSupported\":true,\n",
      "        \"isTransliterationSupported\":false,\n",
      "        \"language\":\"en\",\n",
      "        \"score\":0.95\n",
      "    },\n",
      "    {\n",
      "        \"isTranslationSupported\":true,\n",
      "        \"isTransliterationSupported\":false,\n",
      "        \"language\":\"vi\",\n",
      "        \"score\":1.0\n",
      "    },\n",
      "    {\n",
      "        \"isTranslationSupported\":true,\n",
      "        \"isTransliterationSupported\":true,\n",
      "        \"language\":\"ru\",\n",
      "        \"score\":0.92\n",
      "    },\n",
      "    {\n",
      "        \"isTranslationSupported\":true,\n",
      "        \"isTransliterationSupported\":true,\n",
      "        \"language\":\"hi\",\n",
      "        \"score\":1.0\n",
      "    },\n",
      "    {\n",
      "        \"isTranslationSupported\":true,\n",
      "        \"isTransliterationSupported\":true,\n",
      "        \"language\":\"ko\",\n",
      "        \"score\":1.0\n",
      "    }\n",
      "]\n"
     ]
    }
   ],
   "source": [
    "path = '/detect'\n",
    "\n",
    "constructed_url = endpoint + path\n",
    "\n",
    "params = {\n",
    "    'api-version': '3.0'\n",
    "}\n",
    "\n",
    "request = requests.post(constructed_url, params = params, headers = headers, json = documents)\n",
    "response = request.json()\n",
    "\n",
    "print(json.dumps(response, sort_keys= True, ensure_ascii= False, indent = 4, separators= (',', ':')))"
   ]
  },
  {
   "cell_type": "markdown",
   "metadata": {
    "id": "XHQaHzHWyzg4"
   },
   "source": [
    "## 2: Detection with translation:"
   ]
  },
  {
   "cell_type": "code",
   "execution_count": null,
   "metadata": {
    "colab": {
     "base_uri": "https://localhost:8080/"
    },
    "id": "CqpQOgzBxgOk",
    "outputId": "042f1ad7-b3c8-4af2-c815-58d966add3d0"
   },
   "outputs": [
    {
     "name": "stdout",
     "output_type": "stream",
     "text": [
      "[\n",
      "    {\n",
      "        \"detectedLanguage\":{\n",
      "            \"language\":\"en\",\n",
      "            \"score\":0.95\n",
      "        },\n",
      "        \"translations\":[\n",
      "            {\n",
      "                \"text\":\"Plantilla:See also KTLA began carrying Los Angeles Dodgers games beginning with the team's 1993 season, obtaining the television rights from KTTV\",\n",
      "                \"to\":\"en\"\n",
      "            }\n",
      "        ]\n",
      "    },\n",
      "    {\n",
      "        \"detectedLanguage\":{\n",
      "            \"language\":\"vi\",\n",
      "            \"score\":1.0\n",
      "        },\n",
      "        \"translations\":[\n",
      "            {\n",
      "                \"text\":\"For example, if d is a decimal number that needs to be exchanged, then the hihi-1 sequence... h2h1 are numbers for expressing numbers in the corresponding hexadecimal. With the calculation of sequence h as follows.\",\n",
      "                \"to\":\"en\"\n",
      "            }\n",
      "        ]\n",
      "    },\n",
      "    {\n",
      "        \"detectedLanguage\":{\n",
      "            \"language\":\"ru\",\n",
      "            \"score\":0.92\n",
      "        },\n",
      "        \"translations\":[\n",
      "            {\n",
      "                \"text\":\"Gurusaz battalionl, gyorgjor gyaradabigi lyun, unkbuion (kare) giabun chizarun rugo. Tiade giaradadul sachmagagi gullagi baidal, Akhimadhanil bo Ciorun bugo. Giumhanas tsoigidal boirase taiade zianzize buyruh kyun bugo.\",\n",
      "                \"to\":\"en\"\n",
      "            }\n",
      "        ]\n",
      "    },\n",
      "    {\n",
      "        \"detectedLanguage\":{\n",
      "            \"language\":\"hi\",\n",
      "            \"score\":1.0\n",
      "        },\n",
      "        \"translations\":[\n",
      "            {\n",
      "                \"text\":\"The post of Chief Justice of Bangladesh, Bangladesh is the highest judicial post. The first office bearer to hold the post was Justice Sadat Mohammad Khan Sayam, who held the post from December 16, 1972 to November 1975. Later.\",\n",
      "                \"to\":\"en\"\n",
      "            }\n",
      "        ]\n",
      "    },\n",
      "    {\n",
      "        \"detectedLanguage\":{\n",
      "            \"language\":\"ko\",\n",
      "            \"score\":1.0\n",
      "        },\n",
      "        \"translations\":[\n",
      "            {\n",
      "                \"text\":\"In August 1988, her mother was arrested and indicted on charges of organicchising the protective officer, and was sentenced to three years in prison and four years of probation. The eldest son was also involved in the death of his three daughters and was sent to an orphanage in consideration of the situation, although he was sent to the Tokyo Family Court for injury and body injury. \",\n",
      "                \"to\":\"en\"\n",
      "            }\n",
      "        ]\n",
      "    }\n",
      "]\n"
     ]
    }
   ],
   "source": [
    "path = '/translate'\n",
    "\n",
    "constructed_url = endpoint + path\n",
    "\n",
    "params = {\n",
    "    'api-version': '3.0',\n",
    "    'to': ['en']\n",
    "}\n",
    "\n",
    "request = requests.post(constructed_url, params = params, headers = headers, json = documents)\n",
    "reponse = request.json()\n",
    "\n",
    "print(json.dumps(reponse, sort_keys= True, ensure_ascii= False, indent = 4, separators= (',', ':')))"
   ]
  },
  {
   "cell_type": "markdown",
   "metadata": {
    "id": "cE4CiyhGfOaD"
   },
   "source": [
    "## 3. Transliteration (without detection)\n",
    "In parameter set (params):\n",
    "- the key 'to' is dropped (there is no translation)\n",
    "- 'language': the language source\n",
    "- 'fromScript': the source of the script\n",
    "- 'toScript': the target of the script"
   ]
  },
  {
   "cell_type": "code",
   "execution_count": null,
   "metadata": {
    "colab": {
     "base_uri": "https://localhost:8080/"
    },
    "id": "HBGdv_HQfOaE",
    "outputId": "1e7db8f6-7bf3-40de-dfd3-3f91ae14e156"
   },
   "outputs": [
    {
     "name": "stdout",
     "output_type": "stream",
     "text": [
      "[\n",
      "    {\n",
      "        \"script\":\"latn\",\n",
      "        \"text\":\"1988nam 8woll eomeonineun bohochaegimja yugichisa hyeomuiro chepo mukgye gisodoeossgo, jinggeok 3nyeone jiphaeng 4nine pangyeoreul badassda. jangnam yeoksi samnyeoui samange gwanyeohayeossdago bogo sanghaechisa mukgye sisinyugijoro tokio gajeongbeopwone songchidoejiman sanghwangeul goryeohae goawone bonaejyeossda.\"\n",
      "    }\n",
      "]\n"
     ]
    }
   ],
   "source": [
    "path = '/transliterate' #transliterate endpoint\n",
    "\n",
    "constructed_url = endpoint + path\n",
    "\n",
    "params = {\n",
    "    'api-version': '3.0',\n",
    "    'language': 'ko',\n",
    "    'fromScript': 'Kore',\n",
    "    'toScript': 'latn'\n",
    "}\n",
    "\n",
    "request = requests.post(constructed_url, params = params, headers = headers, json = [documents[4]])\n",
    "response = request.json()\n",
    "\n",
    "print(json.dumps(response, sort_keys= True, ensure_ascii= False, indent = 4, separators= (',', ':')))"
   ]
  },
  {
   "cell_type": "markdown",
   "metadata": {
    "id": "a5YZ2BXP1wu6"
   },
   "source": [
    "## 4. Transliteration (with detection)\n",
    " **Example 1:** Transliterate the word \"Thank you\" to Thailand. \n",
    "*Hello --> สวัสดี --> latin (alphabet)*\n",
    "\n",
    " **Example 2:**\n",
    " When the target language is already in latin, then the transliteration does not make sense.\n",
    " In such a case, there the procedure stops at the translation step, without transliteration.\n",
    "\n",
    " *Hello --> xin chào (in vietnamese) --> no transliteration step.*"
   ]
  },
  {
   "cell_type": "code",
   "execution_count": null,
   "metadata": {
    "colab": {
     "base_uri": "https://localhost:8080/"
    },
    "id": "UpydsnHdxgSR",
    "outputId": "c256de45-d3d4-4926-e79a-ecd6deed8821"
   },
   "outputs": [
    {
     "name": "stdout",
     "output_type": "stream",
     "text": [
      "[\n",
      "    {\n",
      "        \"detectedLanguage\":{\n",
      "            \"language\":\"ko\";\n",
      "            \"score\":1.0\n",
      "        };\n",
      "        \"translations\":[\n",
      "            {\n",
      "                \"text\":\"1988년 8월 어머니는 보호책임자 유기치사 혐의로 체포 및 기소되었고, 징역 3년에 집행유예 4년의 판결을 받았다. 장남 역시 삼녀의 사망에 관여하였다고 보고 상해치사 및 시신유기죄로 도쿄 가정법원에 송치되지만 상황을 고려해 고아원에 보내졌다. \";\n",
      "                \"to\":\"ko\";\n",
      "                \"transliteration\":{\n",
      "                    \"script\":\"Latn\";\n",
      "                    \"text\":\"1988nam 8woll eomeonineun bohochaegimja yugichisa hyeomuiro chepo mukgye gisodoeossgo, jinggeok 3nyeone jiphaeng 4nine pangyeoreul badassda. jangnam yeoksi samnyeoui samange gwanyeohayeossdago bogo sanghaechisa mukgye sisinyugijoro tokio gajeongbeopwone songchidoejiman sanghwangeul goryeohae goawone bonaejyeossda. \"\n",
      "                }\n",
      "            }\n",
      "        ]\n",
      "    }\n",
      "]\n"
     ]
    }
   ],
   "source": [
    "path = '/translate'\n",
    "\n",
    "constructed_url = endpoint + path\n",
    "\n",
    "params = {\n",
    "    'api-version': '3.0',\n",
    "    'to': 'ko', # the target langue is only 1.\n",
    "    'toScript': 'latn'\n",
    "}\n",
    "\n",
    "request = requests.post(constructed_url, params = params, headers = headers, json = [documents[4]])\n",
    "reponse = request.json()\n",
    "\n",
    "print(json.dumps(reponse, sort_keys= True, ensure_ascii= False, indent = 4, separators= (';', ':')))"
   ]
  },
  {
   "cell_type": "markdown",
   "metadata": {
    "id": "BTaTpOeZfeXl"
   },
   "source": [
    "## 5. Get length of text (without translation)"
   ]
  },
  {
   "cell_type": "code",
   "execution_count": null,
   "metadata": {
    "colab": {
     "base_uri": "https://localhost:8080/"
    },
    "id": "v_Lf5KotfeXp",
    "outputId": "adb8f7e2-a403-4867-ab37-3ae228f89c94"
   },
   "outputs": [
    {
     "name": "stdout",
     "output_type": "stream",
     "text": [
      "[\n",
      "    {\n",
      "        \"detectedLanguage\":{\n",
      "            \"language\":\"en\",\n",
      "            \"score\":0.95\n",
      "        },\n",
      "        \"sentLen\":[\n",
      "            145\n",
      "        ]\n",
      "    },\n",
      "    {\n",
      "        \"detectedLanguage\":{\n",
      "            \"language\":\"vi\",\n",
      "            \"score\":1.0\n",
      "        },\n",
      "        \"sentLen\":[\n",
      "            76,\n",
      "            67,\n",
      "            28\n",
      "        ]\n",
      "    },\n",
      "    {\n",
      "        \"detectedLanguage\":{\n",
      "            \"language\":\"ru\",\n",
      "            \"score\":0.92\n",
      "        },\n",
      "        \"sentLen\":[\n",
      "            88,\n",
      "            69,\n",
      "            60\n",
      "        ]\n",
      "    },\n",
      "    {\n",
      "        \"detectedLanguage\":{\n",
      "            \"language\":\"hi\",\n",
      "            \"score\":1.0\n",
      "        },\n",
      "        \"sentLen\":[\n",
      "            72,\n",
      "            138,\n",
      "            10\n",
      "        ]\n",
      "    },\n",
      "    {\n",
      "        \"detectedLanguage\":{\n",
      "            \"language\":\"ko\",\n",
      "            \"score\":1.0\n",
      "        },\n",
      "        \"sentLen\":[\n",
      "            66,\n",
      "            72\n",
      "        ]\n",
      "    }\n",
      "]\n"
     ]
    }
   ],
   "source": [
    "path = '/breaksentence'\n",
    "\n",
    "constructed_url = endpoint + path\n",
    "\n",
    "params = {\n",
    "    'api-version': '3.0',\n",
    "}\n",
    "\n",
    "request = requests.post(constructed_url, params = params, headers = headers, json = documents)\n",
    "response = request.json()\n",
    "\n",
    "print(json.dumps(response, sort_keys= True, indent=4, separators= (',', ':')))"
   ]
  },
  {
   "cell_type": "markdown",
   "metadata": {
    "id": "IVfBAwA77PXw"
   },
   "source": [
    "## 6. Get length of text with translation\n",
    "In the parameter set \"params':\n",
    "- 'to': target language\n",
    "- 'includeSentenceLength': get the length of the given sentences."
   ]
  },
  {
   "cell_type": "code",
   "execution_count": null,
   "metadata": {
    "colab": {
     "base_uri": "https://localhost:8080/"
    },
    "id": "Ii007FYs6-NN",
    "outputId": "d8c09110-52be-4464-d898-a38d6fedd4bb"
   },
   "outputs": [
    {
     "name": "stdout",
     "output_type": "stream",
     "text": [
      "[\n",
      "    {\n",
      "        \"detectedLanguage\":{\n",
      "            \"language\":\"en\",\n",
      "            \"score\":0.95\n",
      "        },\n",
      "        \"translations\":[\n",
      "            {\n",
      "                \"sentLen\":{\n",
      "                    \"srcSentLen\":[\n",
      "                        145\n",
      "                    ],\n",
      "                    \"transSentLen\":[\n",
      "                        145\n",
      "                    ]\n",
      "                },\n",
      "                \"text\":\"Plantilla:See also KTLA began carrying Los Angeles Dodgers games beginning with the team's 1993 season, obtaining the television rights from KTTV\",\n",
      "                \"to\":\"en\"\n",
      "            }\n",
      "        ]\n",
      "    },\n",
      "    {\n",
      "        \"detectedLanguage\":{\n",
      "            \"language\":\"vi\",\n",
      "            \"score\":1.0\n",
      "        },\n",
      "        \"translations\":[\n",
      "            {\n",
      "                \"sentLen\":{\n",
      "                    \"srcSentLen\":[\n",
      "                        76,\n",
      "                        67,\n",
      "                        28\n",
      "                    ],\n",
      "                    \"transSentLen\":[\n",
      "                        94,\n",
      "                        74,\n",
      "                        46\n",
      "                    ]\n",
      "                },\n",
      "                \"text\":\"For example, if d is a decimal number that needs to be exchanged, then the hihi-1 sequence... h2h1 are numbers for expressing numbers in the corresponding hexadecimal. With the calculation of sequence h as follows.\",\n",
      "                \"to\":\"en\"\n",
      "            }\n",
      "        ]\n",
      "    },\n",
      "    {\n",
      "        \"detectedLanguage\":{\n",
      "            \"language\":\"ru\",\n",
      "            \"score\":0.92\n",
      "        },\n",
      "        \"translations\":[\n",
      "            {\n",
      "                \"sentLen\":{\n",
      "                    \"srcSentLen\":[\n",
      "                        88,\n",
      "                        69,\n",
      "                        60\n",
      "                    ],\n",
      "                    \"transSentLen\":[\n",
      "                        85,\n",
      "                        73,\n",
      "                        61\n",
      "                    ]\n",
      "                },\n",
      "                \"text\":\"Gurusaz battalionl, gyorgjor gyaradabigi lyun, unkbuion (kare) giabun chizarun rugo. Tiade giaradadul sachmagagi gullagi baidal, Akhimadhanil bo Ciorun bugo. Giumhanas tsoigidal boirase taiade zianzize buyruh kyun bugo.\",\n",
      "                \"to\":\"en\"\n",
      "            }\n",
      "        ]\n",
      "    },\n",
      "    {\n",
      "        \"detectedLanguage\":{\n",
      "            \"language\":\"hi\",\n",
      "            \"score\":1.0\n",
      "        },\n",
      "        \"translations\":[\n",
      "            {\n",
      "                \"sentLen\":{\n",
      "                    \"srcSentLen\":[\n",
      "                        72,\n",
      "                        138,\n",
      "                        10\n",
      "                    ],\n",
      "                    \"transSentLen\":[\n",
      "                        82,\n",
      "                        139,\n",
      "                        6\n",
      "                    ]\n",
      "                },\n",
      "                \"text\":\"The post of Chief Justice of Bangladesh, Bangladesh is the highest judicial post. The first office bearer to hold the post was Justice Sadat Mohammad Khan Sayam, who held the post from December 16, 1972 to November 1975. Later.\",\n",
      "                \"to\":\"en\"\n",
      "            }\n",
      "        ]\n",
      "    },\n",
      "    {\n",
      "        \"detectedLanguage\":{\n",
      "            \"language\":\"ko\",\n",
      "            \"score\":1.0\n",
      "        },\n",
      "        \"translations\":[\n",
      "            {\n",
      "                \"sentLen\":{\n",
      "                    \"srcSentLen\":[\n",
      "                        66,\n",
      "                        72\n",
      "                    ],\n",
      "                    \"transSentLen\":[\n",
      "                        178,\n",
      "                        208\n",
      "                    ]\n",
      "                },\n",
      "                \"text\":\"In August 1988, her mother was arrested and indicted on charges of organicchising the protective officer, and was sentenced to three years in prison and four years of probation. The eldest son was also involved in the death of his three daughters and was sent to an orphanage in consideration of the situation, although he was sent to the Tokyo Family Court for injury and body injury. \",\n",
      "                \"to\":\"en\"\n",
      "            }\n",
      "        ]\n",
      "    }\n",
      "]\n"
     ]
    }
   ],
   "source": [
    "path = '/translate'\n",
    "\n",
    "constructed_url = endpoint + path\n",
    "\n",
    "params = {\n",
    "    'api-version': '3.0',\n",
    "    'to': 'en',\n",
    "    'includeSentenceLength': True\n",
    "}\n",
    "\n",
    "request = requests.post(constructed_url, params = params, headers = headers, json = documents)\n",
    "response = request.json()\n",
    "\n",
    "print(json.dumps(response, sort_keys= True, ensure_ascii= False, indent = 4, separators= (',', ':')))"
   ]
  },
  {
   "cell_type": "code",
   "execution_count": null,
   "metadata": {
    "id": "iCtvJTfO-R0p"
   },
   "outputs": [],
   "source": []
  }
 ],
 "metadata": {
  "colab": {
   "collapsed_sections": [],
   "name": "MicrosoftAzureCognitive_languages.ipynb",
   "provenance": []
  },
  "kernelspec": {
   "display_name": "Python 3",
   "language": "python",
   "name": "python3"
  },
  "language_info": {
   "codemirror_mode": {
    "name": "ipython",
    "version": 3
   },
   "file_extension": ".py",
   "mimetype": "text/x-python",
   "name": "python",
   "nbconvert_exporter": "python",
   "pygments_lexer": "ipython3",
   "version": "3.8.5"
  }
 },
 "nbformat": 4,
 "nbformat_minor": 1
}
